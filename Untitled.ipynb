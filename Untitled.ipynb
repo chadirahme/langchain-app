{
 "cells": [
  {
   "cell_type": "code",
   "execution_count": 3,
   "id": "099bca02-d9e0-45b1-a1de-eebeefa2558e",
   "metadata": {},
   "outputs": [
    {
     "name": "stdout",
     "output_type": "stream",
     "text": [
      "Traceback (most recent call last):\n",
      "  File \"main.py\", line 1, in <module>\n",
      "    import langchain_helper as lch\n",
      "  File \"/Users/chadirahme/openai/langchain-llm-app/langchain_helper.py\", line 3, in <module>\n",
      "    from langchain_openai import OpenAI\n",
      "ImportError: No module named langchain_openai\n"
     ]
    }
   ],
   "source": [
    "!python main.py"
   ]
  }
 ],
 "metadata": {
  "kernelspec": {
   "display_name": "Python 3 (ipykernel)",
   "language": "python",
   "name": "python3"
  },
  "language_info": {
   "codemirror_mode": {
    "name": "ipython",
    "version": 3
   },
   "file_extension": ".py",
   "mimetype": "text/x-python",
   "name": "python",
   "nbconvert_exporter": "python",
   "pygments_lexer": "ipython3",
   "version": "3.10.9"
  }
 },
 "nbformat": 4,
 "nbformat_minor": 5
}
